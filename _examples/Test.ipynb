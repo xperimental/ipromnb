{
 "cells": [
  {
   "cell_type": "markdown",
   "metadata": {},
   "source": [
    "# Prometheus Jupyter Kernel\n",
    "\n",
    "First set the server the kernel sends queries to. For that you have to write a query that starts with \"server=\":"
   ]
  },
  {
   "cell_type": "code",
   "execution_count": 1,
   "metadata": {},
   "outputs": [
    {
     "name": "stdout",
     "output_type": "stream",
     "text": [
      "Server set to \"http://192.168.242.44:9090\"."
     ]
    }
   ],
   "source": [
    "server=http://192.168.242.44:9090"
   ]
  },
  {
   "cell_type": "markdown",
   "metadata": {},
   "source": [
    "Now you can send queries:"
   ]
  },
  {
   "cell_type": "code",
   "execution_count": 2,
   "metadata": {
    "scrolled": true
   },
   "outputs": [
    {
     "data": {
      "text/html": [
       "<table><thead><tr><th>Metric</th><th>Value</th></thead><tbody>\n",
       "<tr><td>netatmo_sensor_temperature_celsius{instance=\"localhost:8080\", job=\"netatmo\", module=\"Wohnzimmer\"}</td><td>26.000000</td>\n",
       "<tr><td>netatmo_sensor_temperature_celsius{instance=\"localhost:8080\", job=\"netatmo\", module=\"Balkon\"}</td><td>28.000000</td>\n",
       "<tr><td>netatmo_sensor_temperature_celsius{instance=\"localhost:8080\", job=\"netatmo\", module=\"Schlafzimmer\"}</td><td>25.100000</td>\n",
       "</tbody></table>"
      ]
     },
     "metadata": {},
     "output_type": "display_data"
    }
   ],
   "source": [
    "netatmo_sensor_temperature_celsius"
   ]
  }
 ],
 "metadata": {
  "kernelspec": {
   "display_name": "Prometheus",
   "language": "prometheus",
   "name": "prometheus"
  },
  "language_info": {
   "file_extension": "",
   "mimetype": "",
   "name": "prometheus",
   "version": ""
  }
 },
 "nbformat": 4,
 "nbformat_minor": 2
}
